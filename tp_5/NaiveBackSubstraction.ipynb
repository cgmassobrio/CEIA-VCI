{
 "cells": [
  {
   "cell_type": "markdown",
   "metadata": {},
   "source": [
    "# Implementación de detector de fondo de Naive\n"
   ]
  },
  {
   "cell_type": "code",
   "execution_count": 1,
   "metadata": {},
   "outputs": [
    {
     "name": "stdout",
     "output_type": "stream",
     "text": [
      "Numpy: 1.22.3\n",
      "openCV: 4.5.5\n",
      "Matplotlib: 3.5.1\n",
      "\n"
     ]
    }
   ],
   "source": [
    "# Librerías principales\n",
    "import numpy as np\n",
    "import cv2 as cv\n",
    "import matplotlib\n",
    "from matplotlib import pyplot as plt\n",
    "\n",
    "# Tratamiento de archivos\n",
    "import glob\n",
    "\n",
    "# Tipo de visualización\n",
    "%matplotlib inline\n",
    "\n",
    "# Versiones de librerías\n",
    "print(\"\".join(f\"{x[0]}: {x[1]}\\n\" for x in [\n",
    "    (\"Numpy\",np.__version__),\n",
    "    (\"openCV\",cv.__version__),\n",
    "    (\"Matplotlib\",matplotlib.__version__),\n",
    "]))"
   ]
  },
  {
   "cell_type": "code",
   "execution_count": 2,
   "metadata": {},
   "outputs": [],
   "source": [
    "# Definición de la ruta para levantar los videos\n",
    "VD_DIR = r'.\\videos'\n",
    "VD_NAME = 'vtest.avi'\n"
   ]
  },
  {
   "cell_type": "markdown",
   "metadata": {},
   "source": [
    "## videos\n",
    "Se levanta el video que se emplearán como prueba del algoritmo. \n"
   ]
  },
  {
   "cell_type": "code",
   "execution_count": 3,
   "metadata": {},
   "outputs": [],
   "source": [
    "# Abrimos el archivo\n",
    "#-------------------\n",
    "capture = cv.VideoCapture(os.path.join(VD_DIR, VD_NAME))\n",
    "\n",
    "if not capture.isOpened:\n",
    "    print('Falla al abrir el archivo: ' + VD_NAME)\n",
    "    exit(0)"
   ]
  },
  {
   "cell_type": "code",
   "execution_count": 4,
   "metadata": {},
   "outputs": [
    {
     "name": "stdout",
     "output_type": "stream",
     "text": [
      "Cantidad de frames de video = Cantidad de imágenes guardadas en array:  True\n",
      "Cantidad de frames registrados:  795\n"
     ]
    }
   ],
   "source": [
    "frames = []\n",
    "\n",
    "while True:\n",
    "    read, frame= capture.read()\n",
    "    if not read:\n",
    "        break\n",
    "    frames.append(frame)\n",
    "frames = np.array(frames)\n",
    "\n",
    "# Cantidad de frames guardados como array\n",
    "cant_frames = len(frames)\n",
    "ver = int(capture.get(cv.CAP_PROP_FRAME_COUNT)) == len(frames)\n",
    "\n",
    "# Verificación de lectura correcta\n",
    "print(\"Cantidad de frames de video = Cantidad de imágenes guardadas en array: \", ver)\n",
    "print(\"Cantidad de frames registrados: \", cant_frames)\n",
    "print(\"Verificación de dimensiones: \", frames.shape)\n"
   ]
  },
  {
   "cell_type": "code",
   "execution_count": 96,
   "metadata": {},
   "outputs": [],
   "source": [
    "def median_random_frames(input_frames, batch_size, seed, m_type='float32'):\n",
    "    '''\n",
    "    Función que devuelve la mediana, por canal, de un batch random formado por los frames de un video\n",
    "    Los valores son de tipo flotante por defecto.\n",
    "    - input_frames: array que contiene los frames de video a procesar.\n",
    "    - batch_size: tamaño del batch que contiene las muestras seleccionadas aleatoriamente sin reemplazo.\n",
    "    - seed: semilla para garantizar la repetitividad del proceso.\n",
    "    '''\n",
    "    rng = np.random.default_rng(seed)\n",
    "    # Cantidad de frames a procesar\n",
    "    cant_frames = len(input_frames)\n",
    "    # Generación de enteros random\n",
    "    idx = rng.choice(cant_frames, size=batch_size, replace=False, shuffle=False)\n",
    "\n",
    "    # Armado del batch. Se convierte a tipo flotante\n",
    "    batch = input_frames[idx,...].astype(m_type)\n",
    "\n",
    "    # Mediana del batch\n",
    "    return np.median(batch, axis=0)"
   ]
  }
 ],
 "metadata": {
  "kernelspec": {
   "display_name": "Python 3.9.12 ('opencv')",
   "language": "python",
   "name": "python3"
  },
  "language_info": {
   "codemirror_mode": {
    "name": "ipython",
    "version": 3
   },
   "file_extension": ".py",
   "mimetype": "text/x-python",
   "name": "python",
   "nbconvert_exporter": "python",
   "pygments_lexer": "ipython3",
   "version": "3.9.12"
  },
  "orig_nbformat": 4,
  "vscode": {
   "interpreter": {
    "hash": "5c41c2bed6317fcc09dc6ef78ff357819e2ca7efa781e228fd0e70c6f824fa93"
   }
  }
 },
 "nbformat": 4,
 "nbformat_minor": 2
}
